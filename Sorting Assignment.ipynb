{
 "cells": [
  {
   "cell_type": "markdown",
   "id": "147434f7-8acd-474c-b7d9-b5ce6683247c",
   "metadata": {},
   "source": [
    " Problem 1.Given an array of n numbers, give an algorithm which gives the element appearing maximum \n",
    "number of times?"
   ]
  },
  {
   "cell_type": "raw",
   "id": "0ad0f7aa-a68c-4918-b257-ed3aff6a5e52",
   "metadata": {},
   "source": [
    "Algorithm :-\n",
    "\n",
    "1.Create two lists: one for storing the unique elements encountered (unique_elements) and one for storing the corresponding counts (counts).\n",
    "\n",
    "2.Iterate through the array. For each element:\n",
    "    i)If the element is not in unique_elements, add it to unique_elements and add a corresponding count of 1 to counts.\n",
    "    \n",
    "    ii)If the element is already in unique_elements, increment the corresponding count in counts.\n",
    "    \n",
    "3.Find the element with the maximum count by iterating through the counts list.\n",
    "\n",
    "4.Return the element with the maximum count."
   ]
  },
  {
   "cell_type": "code",
   "execution_count": 2,
   "id": "936082f0-2260-4097-8b15-a36f64ca9869",
   "metadata": {},
   "outputs": [
    {
     "name": "stdout",
     "output_type": "stream",
     "text": [
      "3\n"
     ]
    }
   ],
   "source": [
    "def find_most_frequent_element(arr):\n",
    "    if not arr:\n",
    "        return None  \n",
    "\n",
    "    unique_elements = []\n",
    "    counts = []\n",
    "\n",
    "    for element in arr:\n",
    "        \n",
    "        if element in unique_elements:\n",
    "            \n",
    "            index = unique_elements.index(element)\n",
    "            counts[index] += 1\n",
    "        else:\n",
    "            \n",
    "            unique_elements.append(element)\n",
    "            counts.append(1)\n",
    "\n",
    "    max_count = 0\n",
    "    most_frequent_element = None\n",
    "    \n",
    "    for i in range(len(unique_elements)):\n",
    "        \n",
    "        if counts[i] > max_count:\n",
    "            max_count = counts[i]\n",
    "            most_frequent_element = unique_elements[i]\n",
    "\n",
    "    return most_frequent_element\n",
    "\n",
    "arr = [1, 3, 2, 4, 1, 3, 3]\n",
    "print(find_most_frequent_element(arr))  \n"
   ]
  },
  {
   "cell_type": "markdown",
   "id": "93de2ae4-2cf4-4020-b90b-497faf539e3d",
   "metadata": {},
   "source": [
    "Problem 2 : We are given a list of n-1 integers and these integers are in the range of 1 to n . There are no \n",
    "duplicates in the list. One of the integers is missing in the list. Give an algorithm to find that element Ex: \n",
    "[1,2,4,6,3,7,8] 5 is the missing num."
   ]
  },
  {
   "cell_type": "raw",
   "id": "c21dd243-e654-49e3-b25d-9b3ebb6ed41c",
   "metadata": {},
   "source": [
    "Algorithm :-\n",
    "1.culate the expected sum of the first n natural numbers using the formula n(n+1)/2\n",
    "\n",
    "2.lculate the actual sum of the numbers in the given list.\n",
    "\n",
    "3.Thmissing number is the difference between the expected sum and the actual sum."
   ]
  },
  {
   "cell_type": "code",
   "execution_count": 5,
   "id": "688452c0-3cf1-446a-9eb3-fb15ab21c475",
   "metadata": {},
   "outputs": [
    {
     "name": "stdout",
     "output_type": "stream",
     "text": [
      "5\n"
     ]
    }
   ],
   "source": [
    "def find_missing_num(arr) :\n",
    "    \n",
    "    n = len(arr) + 1\n",
    "    \n",
    "    expected_sum = n*(n+1)//2\n",
    "    \n",
    "    actual_sum = sum(arr)\n",
    "    \n",
    "    missing_number = expected_sum - actual_sum\n",
    "    \n",
    "    return missing_number\n",
    "\n",
    "arr = [1, 2, 4, 6, 3, 7, 8]\n",
    "print(find_missing_num(arr))"
   ]
  },
  {
   "cell_type": "markdown",
   "id": "6b2e0bdd-1893-4fe7-a691-90b57b5fe69a",
   "metadata": {},
   "source": [
    "Problem 3 : Given an array of n positive numbers. All numbers occurs even number of times except 1 which \n",
    "occurs odd number of times. Find that number in O(n) time and O(1) space. Ex: [1,2,3,2,3,1,3]. 3 is repeats odd \n",
    "times."
   ]
  },
  {
   "cell_type": "code",
   "execution_count": 7,
   "id": "80493f0c-938c-4910-9dfa-38d28cca346b",
   "metadata": {},
   "outputs": [
    {
     "name": "stdout",
     "output_type": "stream",
     "text": [
      "3\n"
     ]
    }
   ],
   "source": [
    "def find_odd_occurrence(arr) :\n",
    "    \n",
    "    result = 0\n",
    "    \n",
    "    for num in arr :\n",
    "        result ^= num\n",
    "        \n",
    "    return result\n",
    "\n",
    "arr = [1, 2, 3, 2, 3, 1, 3]\n",
    "print(find_odd_occurrence(arr))"
   ]
  },
  {
   "cell_type": "markdown",
   "id": "091b4560-263c-4d76-a0af-f66e59954618",
   "metadata": {},
   "source": [
    "Problem 4 : Given an array of n elements. Find two elements in the array such that their sum is equal to given \n",
    "element K."
   ]
  },
  {
   "cell_type": "code",
   "execution_count": 8,
   "id": "08f5ef0e-38eb-43f2-9c34-4cca289d1948",
   "metadata": {},
   "outputs": [
    {
     "name": "stdout",
     "output_type": "stream",
     "text": [
      "(10, 7)\n"
     ]
    }
   ],
   "source": [
    "def find_pair_with_sum(arr, K):\n",
    "    \n",
    "    seen_elements = {}\n",
    "    \n",
    "    for num in arr:\n",
    "        complement = K - num  \n",
    "        \n",
    "        if complement in seen_elements:\n",
    "            \n",
    "            return (complement, num)  \n",
    "        \n",
    "        seen_elements[num] = True\n",
    "    \n",
    "    return None\n",
    "\n",
    "arr = [10, 15, 3, 7]\n",
    "K = 17\n",
    "print(find_pair_with_sum(arr, K))  \n"
   ]
  },
  {
   "cell_type": "markdown",
   "id": "390dd9de-3a6d-4f92-8bac-7d08bc174595",
   "metadata": {},
   "source": [
    " Given an array of both positive and negative numbers, find two numbers such that their sum is \n",
    "closest to 0. Ex: [ 1 ,60 ,-10, 70, -80,85]. Ans : -80,85"
   ]
  },
  {
   "cell_type": "code",
   "execution_count": 13,
   "id": "f9170fa7-d923-49b7-87a1-dcb75b74e6a2",
   "metadata": {},
   "outputs": [
    {
     "name": "stdout",
     "output_type": "stream",
     "text": [
      "(4, 6, 12)\n"
     ]
    }
   ],
   "source": [
    "def find_closest_pair(arr):\n",
    "    \n",
    "    arr.sort()\n",
    "    \n",
    "    left = 0\n",
    "    right = len(arr) - 1\n",
    "    closest_sum = float('inf')\n",
    "    closest_pair = (None,None)\n",
    "    \n",
    "    while left < right :\n",
    "        \n",
    "        current_sum = arr[left] + arr[right]\n",
    "        \n",
    "        if abs(current_sum) < abs(closest_sum) :\n",
    "            closest_sum = current_sum\n",
    "            closest_pair = ( arr[left] , arr[right] )\n",
    "        \n",
    "        if current_sum < 0 :\n",
    "            left += 1\n",
    "        \n",
    "        elif current_sum > 0 :\n",
    "            right -= 1\n",
    "            \n",
    "        else :\n",
    "            break\n",
    "        \n",
    "    return closest_pair\n",
    "\n",
    "arr = [1, 60, -10, 70, -80, 85]\n",
    "print(find_closest_pair(arr)) \n",
    "            "
   ]
  },
  {
   "cell_type": "markdown",
   "id": "3eba8d5c-e66d-4e0c-be86-5b8bf342f1db",
   "metadata": {},
   "source": [
    " Given an array of n elements . Find three elements such that their sum is equal to the given \n",
    "number"
   ]
  },
  {
   "cell_type": "code",
   "execution_count": 15,
   "id": "9a29d89b-4baa-4a09-900b-6c16e0970ceb",
   "metadata": {},
   "outputs": [
    {
     "name": "stdout",
     "output_type": "stream",
     "text": [
      "(4, 6, 12)\n"
     ]
    }
   ],
   "source": [
    "def find_triplet(arr, k):\n",
    "    \n",
    "    arr.sort()\n",
    "    \n",
    "    closest_sum = float('inf')\n",
    "    closest_triplet = None\n",
    "    \n",
    "    for i in range(len(arr) - 2):\n",
    "        \n",
    "        left = i + 1\n",
    "        right = len(arr) - 1\n",
    "        \n",
    "        while left < right:\n",
    "            \n",
    "            current_sum = arr[i] + arr[left] + arr[right]\n",
    "            \n",
    "            if abs(k - current_sum) < abs(k - closest_sum):\n",
    "                \n",
    "                closest_sum = current_sum\n",
    "                closest_triplet = (arr[i], arr[left], arr[right])\n",
    "            \n",
    "            if current_sum < k:\n",
    "                left += 1\n",
    "            elif current_sum > k:\n",
    "                right -= 1\n",
    "            else:\n",
    "                return closest_triplet \n",
    "    \n",
    "    return closest_triplet\n",
    "\n",
    "arr1 = [1, 4, 45, 6, 10, 8, 12]\n",
    "K1 = 22\n",
    "print(find_triplet(arr1, K1))  \n"
   ]
  },
  {
   "cell_type": "markdown",
   "id": "91ea95f0-512a-4fbf-9902-d739ccb1c39e",
   "metadata": {},
   "source": [
    "Problem 7 : Given an array of n elements . Find three elements i, j, k in the array such that\n",
    " i * i + j * j = k*k"
   ]
  },
  {
   "cell_type": "code",
   "execution_count": 16,
   "id": "ce01c801-25fe-4600-82a2-177d9bb46c77",
   "metadata": {},
   "outputs": [
    {
     "name": "stdout",
     "output_type": "stream",
     "text": [
      "(3, 4, 5)\n"
     ]
    }
   ],
   "source": [
    "from collections import defaultdict\n",
    "\n",
    "def find_triplet_square(arr):\n",
    "    \n",
    "    arr_square = {x*x: x for x in arr}  \n",
    "    \n",
    "    for i in range(len(arr)):\n",
    "        \n",
    "        for j in range(i + 1, len(arr)):\n",
    "\n",
    "            square_sum = arr[i]*arr[i] + arr[j]*arr[j]\n",
    "    \n",
    "            if square_sum in arr_square:\n",
    "                k = arr_square[square_sum]\n",
    "                return (arr[i], arr[j], k)  \n",
    "    \n",
    "    return None  \n",
    "\n",
    "arr = [3, 1, 4, 6, 5]\n",
    "print(find_triplet_square(arr))  \n"
   ]
  },
  {
   "cell_type": "markdown",
   "id": "5c28bdea-a62e-43e5-ac5d-c1523688cd20",
   "metadata": {},
   "source": [
    "Problem 8 : An element is a majority if it appears more than n/2 times. Give an algorithm takes an array of n \n",
    "element as argument and identifies a majority (if it exists)"
   ]
  },
  {
   "cell_type": "code",
   "execution_count": 17,
   "id": "10dbb250-cae1-478a-a1e0-834a98a5fd94",
   "metadata": {},
   "outputs": [
    {
     "name": "stdout",
     "output_type": "stream",
     "text": [
      "2\n"
     ]
    }
   ],
   "source": [
    "def find_majority_element(arr):\n",
    "    \n",
    "    candidate = None\n",
    "    count = 0\n",
    "    \n",
    "    for num in arr:\n",
    "        \n",
    "        if count == 0:\n",
    "            candidate = num\n",
    "            count = 1\n",
    "            \n",
    "        elif num == candidate:\n",
    "            \n",
    "            count += 1\n",
    "            \n",
    "        else:\n",
    "            \n",
    "            count -= 1\n",
    "    \n",
    "    count_candidate = 0\n",
    "    \n",
    "    for num in arr:\n",
    "        \n",
    "        if num == candidate:\n",
    "            count_candidate += 1\n",
    "    \n",
    "    if count_candidate > len(arr) / 2:\n",
    "        \n",
    "        return candidate\n",
    "    \n",
    "    else:\n",
    "        \n",
    "        return None\n",
    "\n",
    "arr = [2, 2, 3, 4, 2, 2, 5, 2, 2]\n",
    "print(find_majority_element(arr)) \n"
   ]
  },
  {
   "cell_type": "markdown",
   "id": "d525e2fc-b97a-4fac-a77e-39507e70c571",
   "metadata": {},
   "source": [
    "Problem 9 : Given n × n matrix, and in each row all 1’s are followed by 0’s. Find the row with the maximum \n",
    "number of 0’s"
   ]
  },
  {
   "cell_type": "code",
   "execution_count": 20,
   "id": "f136d467-3a82-42b6-b2ce-340dab259602",
   "metadata": {},
   "outputs": [
    {
     "name": "stdout",
     "output_type": "stream",
     "text": [
      "3\n"
     ]
    }
   ],
   "source": [
    "def find_max_zeroes_row(matrix):\n",
    "    \n",
    "    max_zeroes_row = 0\n",
    "    max_zeroes_count = 0\n",
    "    \n",
    "    for row_index, row in enumerate(matrix):\n",
    "    \n",
    "        zeroes_count = 0\n",
    "        \n",
    "        for num in reversed(row):\n",
    "            \n",
    "            if num == 0:\n",
    "                \n",
    "                zeroes_count += 1\n",
    "                \n",
    "            else:\n",
    "                \n",
    "                break\n",
    "        \n",
    "        if zeroes_count > max_zeroes_count:\n",
    "            \n",
    "            max_zeroes_count = zeroes_count\n",
    "            max_zeroes_row = row_index\n",
    "    \n",
    "    return max_zeroes_row\n",
    "\n",
    "matrix = [\n",
    "    [1, 1, 1, 0, 0],\n",
    "    [1, 1, 0, 0, 0],\n",
    "    [1, 1, 1, 1, 0],\n",
    "    [1, 0, 0, 0, 0],\n",
    "    [1, 1, 1, 0, 0]\n",
    "]\n",
    "print(find_max_zeroes_row(matrix))  "
   ]
  },
  {
   "cell_type": "markdown",
   "id": "7b2e1253-562c-429c-8ca6-265645e17980",
   "metadata": {},
   "source": [
    "Problem 10 : Sort an array of 0’s, 1’s and 2’s [or R’s, G’s and B’s]: Given an array A[] consisting of 0’s, 1’s and \n",
    "2’s, give an algorithm for sorting A[].The algorithm should put all 0’s first, then all 1’s and finally all 2’s at the \n",
    "end. Example Input = {0,1,1,0,1,2,1,2,0,0,0,1}, Output = {0,0,0,0,0,1,1,1,1,1,2,2}"
   ]
  },
  {
   "cell_type": "code",
   "execution_count": 22,
   "id": "10a1ef7e-7d70-4829-9cc8-6cb0638eb216",
   "metadata": {},
   "outputs": [
    {
     "name": "stdout",
     "output_type": "stream",
     "text": [
      "[0, 0, 0, 0, 0, 1, 1, 1, 1, 1, 2, 2]\n"
     ]
    }
   ],
   "source": [
    "def sort_array_012(arr):\n",
    "\n",
    "    low = 0\n",
    "    mid = 0\n",
    "    high = len(arr) - 1\n",
    "    \n",
    "    while mid <= high:\n",
    "        \n",
    "        if arr[mid] == 0:\n",
    "            \n",
    "            arr[low], arr[mid] = arr[mid], arr[low]\n",
    "            low += 1\n",
    "            mid += 1\n",
    "            \n",
    "        elif arr[mid] == 1:\n",
    "            \n",
    "            mid += 1\n",
    "            \n",
    "        else:  \n",
    "            \n",
    "            arr[mid], arr[high] = arr[high], arr[mid]\n",
    "            high -= 1\n",
    "    \n",
    "    return arr\n",
    "\n",
    "arr = [0, 1, 1, 0, 1, 2, 1, 2, 0, 0, 0, 1]\n",
    "print(sort_array_012(arr)) \n"
   ]
  }
 ],
 "metadata": {
  "kernelspec": {
   "display_name": "Python 3 (ipykernel)",
   "language": "python",
   "name": "python3"
  },
  "language_info": {
   "codemirror_mode": {
    "name": "ipython",
    "version": 3
   },
   "file_extension": ".py",
   "mimetype": "text/x-python",
   "name": "python",
   "nbconvert_exporter": "python",
   "pygments_lexer": "ipython3",
   "version": "3.10.8"
  }
 },
 "nbformat": 4,
 "nbformat_minor": 5
}
